{
 "cells": [
  {
   "cell_type": "code",
   "execution_count": 1,
   "metadata": {},
   "outputs": [],
   "source": [
    "def word_search(doc_list, keyword):\n",
    "    keyword=keyword.strip().rstrip('.').lower()\n",
    "    new_list=[]\n",
    "    for index, doc in enumerate(doc_list):\n",
    "        for word in doc.split():\n",
    "            if keyword == word.strip().rstrip('.').lower():\n",
    "                new_list.append(index)\n",
    "    return new_list"
   ]
  },
  {
   "cell_type": "code",
   "execution_count": 2,
   "metadata": {},
   "outputs": [],
   "source": [
    "doc_list = [\"The Learn Python Challenge Casino.\", \"They bought a car\", \"Casinovilles\"]\n"
   ]
  },
  {
   "cell_type": "code",
   "execution_count": 3,
   "metadata": {},
   "outputs": [
    {
     "output_type": "execute_result",
     "data": {
      "text/plain": "[1]"
     },
     "metadata": {},
     "execution_count": 3
    }
   ],
   "source": [
    "word_search(doc_list,\"car\")"
   ]
  },
  {
   "cell_type": "code",
   "execution_count": 4,
   "metadata": {},
   "outputs": [
    {
     "output_type": "stream",
     "name": "stdout",
     "text": "Algorithm_Scripts\t\t  phonebook_app\t\t  xyz.py\n Algorithms_Program_Development  'phonebook_app v4.zip'   zidani2.ipynb\n classwork3.py\t\t\t  README.md\t\t  zidani2.py\n defaultLogic.py\t\t  StringFormatting\t  zidani.py\n Functions_Data_Strutures\t  xxx.py\n"
    }
   ],
   "source": [
    "!ls"
   ]
  },
  {
   "cell_type": "code",
   "execution_count": null,
   "metadata": {},
   "outputs": [],
   "source": []
  }
 ],
 "metadata": {
  "language_info": {
   "codemirror_mode": {
    "name": "ipython",
    "version": 3
   },
   "file_extension": ".py",
   "mimetype": "text/x-python",
   "name": "python",
   "nbconvert_exporter": "python",
   "pygments_lexer": "ipython3",
   "version": "3.8.2-final"
  },
  "orig_nbformat": 2,
  "kernelspec": {
   "name": "python38164bit87707d92792c4b0f88c5b647557fe009",
   "display_name": "Python 3.8.1 64-bit"
  }
 },
 "nbformat": 4,
 "nbformat_minor": 2
}